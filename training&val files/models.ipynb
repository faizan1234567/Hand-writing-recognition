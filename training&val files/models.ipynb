{
  "nbformat": 4,
  "nbformat_minor": 0,
  "metadata": {
    "colab": {
      "name": "models.ipynb",
      "provenance": []
    },
    "kernelspec": {
      "name": "python3",
      "display_name": "Python 3"
    },
    "language_info": {
      "name": "python"
    }
  },
  "cells": [
    {
      "cell_type": "code",
      "execution_count": null,
      "metadata": {
        "id": "hMxZjFPlMNX0"
      },
      "outputs": [],
      "source": [
        "import torch\n",
        "import torch.nn as nn\n",
        "import torch.nn.functional as F\n",
        "import torchvision\n",
        "import numpy as np\n"
      ]
    },
    {
      "cell_type": "code",
      "source": [
        "from google.colab import drive\n",
        "drive.mount('/gdrive')"
      ],
      "metadata": {
        "colab": {
          "base_uri": "https://localhost:8080/"
        },
        "id": "5ocjZnDQMfLd",
        "outputId": "65276d7e-1f83-46ef-e7fb-c33a9fa5cffb"
      },
      "execution_count": null,
      "outputs": [
        {
          "output_type": "stream",
          "name": "stdout",
          "text": [
            "Mounted at /gdrive\n"
          ]
        }
      ]
    },
    {
      "cell_type": "code",
      "source": [
        "class ConvNet(nn.Module):\n",
        "  ''' custom convolutional neural network class for image classification\n",
        "      nn.Module: neural network module for implementing neural network\n",
        "  '''\n",
        "  def __init__(self, num_classes):\n",
        "    # self.num_classes = num_classes\n",
        "    super(ConvNet, self).__init__()\n",
        "    self.conv1 = nn.Conv2d(in_channels=1, out_channels=32, kernel_size=3, stride= 1, padding=1)\n",
        "    self.bn1 = nn.BatchNorm2d(32)\n",
        "    self.pool = nn.MaxPool2d(2, 2)\n",
        "    self.conv2 = nn.Conv2d(in_channels=32, out_channels=64, kernel_size=3, stride= 1, padding=0)\n",
        "    self.bn2 = nn.BatchNorm2d(64)\n",
        "    self.fc1 = nn.Linear(in_features=6*6*64, out_features=1024)\n",
        "    self.bn3 = nn.BatchNorm1d(1024)\n",
        "    self.fc2 = nn.Linear(in_features=1024, out_features=512)\n",
        "    self.bn4 = nn.BatchNorm1d(512)\n",
        "    self.fc3 = nn.Linear(in_features=512, out_features=256)\n",
        "    self.bn5 = nn.BatchNorm1d(256)\n",
        "    self.fc4 = nn.Linear(in_features=256, out_features=128)\n",
        "    self.bn6 = nn.BatchNorm1d(128)\n",
        "    self.fc5 = nn.Linear(in_features=128, out_features=64)\n",
        "    self.bn7 = nn.BatchNorm1d(64)\n",
        "    self.fc6 = nn.Linear(in_features=64, out_features=num_classes)\n",
        "\n",
        "  def forward(self, x):\n",
        "    x = F.relu(self.bn1(self.conv1(x.view(-1, 1, 28, 28))))  #m*28*28*16\n",
        "    x = self.pool(x)                                         #m*14*14*16\n",
        "    x = F.relu(self.bn2(self.conv2(x)))                      #m*12*12*32\n",
        "    x = self.pool(x)                                         #m*6*6*32\n",
        "    x = x.view(x.size(0),-1)                                 #m is batch size\n",
        "    x = F.relu(self.bn3(self.fc1(x)))\n",
        "    x = F.relu(self.bn4(self.fc2(x)))\n",
        "    x = F.relu(self.bn5(self.fc3(x)))\n",
        "    x = F.relu(self.bn6(self.fc4(x)))\n",
        "    x = F.relu(self.bn7(self.fc5(x)))\n",
        "    x = F.relu(self.fc6(x))\n",
        "    x = x.view(x.size(0), -1)\n",
        "    return x"
      ],
      "metadata": {
        "id": "O4FLnOesMkWj"
      },
      "execution_count": null,
      "outputs": []
    },
    {
      "cell_type": "code",
      "source": [
        "class ConvNet1(nn.Module):\n",
        "    def __init__(self,nclasses):\n",
        "        super(ConvNet1,self).__init__()\n",
        "        self.conv1 = nn.Conv2d(1,6,kernel_size = 5, stride = 1, padding=2)\n",
        "        self.bn1 = nn.BatchNorm2d(6)\n",
        "        self.conv2 = nn.Conv2d(6,16,kernel_size = 5, stride = 1, padding=0)\n",
        "        self.bn2 = nn.BatchNorm2d(16)\n",
        "        self.pool = nn.MaxPool2d(kernel_size=2,stride = 2)\n",
        "        self.fc1 = nn.Linear(in_features=16*5*5, out_features=120)\n",
        "        self.bn3 = nn.BatchNorm1d(120)\n",
        "        self.fc2 = nn.Linear(in_features=120, out_features=84)\n",
        "        self.bn4 = nn.BatchNorm1d(84)\n",
        "        self.fc3 = nn.Linear(in_features=84, out_features=nclasses)\n",
        "\n",
        "    def forward(self,x):\n",
        "        x = F.relu(self.bn1(self.conv1(x.view(-1,1,28,28))))\n",
        "        x = self.pool(x)\n",
        "        x = F.relu(self.bn2(self.conv2(x)))\n",
        "        x = self.pool(x)\n",
        "        x = x.view(x.size(0),-1)\n",
        "        x = F.relu(self.bn3(self.fc1(x)))\n",
        "        x = F.relu(self.bn4(self.fc2(x)))\n",
        "        x = F.relu(self.fc3(x))\n",
        "        x = x.view(x.size(0),-1)\n",
        "        return x"
      ],
      "metadata": {
        "id": "9nudGbFCM8Qv"
      },
      "execution_count": null,
      "outputs": []
    },
    {
      "cell_type": "code",
      "source": [
        "class ANNmodel(nn.Module):\n",
        "  def __init__(self, num_classes):\n",
        "    super(ANNmodel, self).__init__()\n",
        "    self.Linear1 = nn.Linear(784, 1024)\n",
        "    self.Linear2 = nn.Linear(1024, 2048)\n",
        "    self.Linear3 = nn.Linear(2048, 1024)\n",
        "    self.Linear4 = nn.Linear(1024, 2048)\n",
        "    self.Linear5 = nn.Linear(2048, 1024)\n",
        "    self.Linear6 = nn.Linear(1024, 512)\n",
        "    self.Linear7 = nn.Linear(512, 1024)\n",
        "    self.Linear8 = nn.Linear(1024, 256)\n",
        "    self.Linear9 = nn.Linear(256, 128)\n",
        "    self.Linear10 = nn.Linear(128, num_classes)\n",
        "\n",
        "  def forward(self, x):\n",
        "    x = F.relu(self.Linear1(x.view(x.size(0), -1)))\n",
        "    x = F.relu(self.Linear2(x))\n",
        "    x = F.relu(self.Linear3(x))\n",
        "    x = F.relu(self.Linear4(x))\n",
        "    x = F.relu(self.Linear5(x))\n",
        "    x = F.relu(self.Linear6(x))\n",
        "    x = F.relu(self.Linear7(x))\n",
        "    x = F.relu(self.Linear8(x))\n",
        "    x = F.relu(self.Linear9(x))\n",
        "    x = F.relu(self.Linear10(x))\n",
        "    x = x.view(x.size(0), -1)\n",
        "    return x"
      ],
      "metadata": {
        "id": "m9xA2R-JNEv0"
      },
      "execution_count": null,
      "outputs": []
    }
  ]
}